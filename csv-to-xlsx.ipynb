{
 "cells": [
  {
   "cell_type": "markdown",
   "metadata": {},
   "source": [
    "pip install openpyxl"
   ]
  },
  {
   "cell_type": "code",
   "execution_count": 17,
   "metadata": {},
   "outputs": [],
   "source": [
    "#pip install openpyxl"
   ]
  },
  {
   "cell_type": "markdown",
   "metadata": {},
   "source": [
    "codings"
   ]
  },
  {
   "cell_type": "code",
   "execution_count": 22,
   "metadata": {},
   "outputs": [],
   "source": [
    "# @author suriya manoharan\n",
    "\n",
    "\n",
    "import os\n",
    "\n",
    "import csv\n",
    "\n",
    "import sys\n",
    "\n",
    "from openpyxl import Workbook\n",
    "\n",
    "from importlib import reload\n",
    "\n",
    "\n",
    "if sys.version[0] == '2':\n",
    "    reload(sys)\n",
    "\n",
    "if __name__ == '__main__':\n",
    "    workbook = Workbook()\n",
    "    worksheet = workbook.active\n",
    "    with open('/home/100158/Downloads/csv-to-xlsx/input.csv', 'r') as f: # your input location path\n",
    "\n",
    "        reader = csv.reader(f)\n",
    "        for r, row in enumerate(reader):\n",
    "            for c, col in enumerate(row):\n",
    "                for idx, val in enumerate(col.split(',')):\n",
    "                    cell = worksheet.cell(row=r+1, column=c+1)\n",
    "                    cell.value = val\n",
    "    workbook.save('/home/100158/Downloads/csv-to-xlsx/output.xlsx') # your ouput location path\n"
   ]
  },
  {
   "cell_type": "code",
   "execution_count": null,
   "metadata": {},
   "outputs": [],
   "source": []
  }
 ],
 "metadata": {
  "kernelspec": {
   "display_name": "Python 3",
   "language": "python",
   "name": "python3"
  },
  "language_info": {
   "codemirror_mode": {
    "name": "ipython",
    "version": 3
   },
   "file_extension": ".py",
   "mimetype": "text/x-python",
   "name": "python",
   "nbconvert_exporter": "python",
   "pygments_lexer": "ipython3",
   "version": "3.7.3"
  }
 },
 "nbformat": 4,
 "nbformat_minor": 4
}
